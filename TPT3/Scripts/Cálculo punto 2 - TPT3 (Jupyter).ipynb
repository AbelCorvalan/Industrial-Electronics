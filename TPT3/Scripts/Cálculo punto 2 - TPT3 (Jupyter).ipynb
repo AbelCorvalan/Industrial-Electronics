{
 "cells": [
  {
   "cell_type": "markdown",
   "metadata": {},
   "source": [
    "## TPT2 - Electrónica Industrial"
   ]
  },
  {
   "cell_type": "markdown",
   "metadata": {},
   "source": [
    "### Consigna 1"
   ]
  },
  {
   "cell_type": "markdown",
   "metadata": {},
   "source": [
    "Se calcula el tensión media en la carga $V_{L(AV)}$.\n",
    "\n",
    "$$ V_{L(AV)}= R_{L} I_{L(AV)} $$\n",
    "$$ V_{L(AV)}= 5A * 100\\Omega $$\n",
    "$$ V_{L(AV)}= 500V $$"
   ]
  },
  {
   "cell_type": "code",
   "execution_count": 3,
   "metadata": {},
   "outputs": [
    {
     "name": "stdout",
     "output_type": "stream",
     "text": [
      "El valor de la tensión media en la carga es V_{L(AV)}=  500 V\n"
     ]
    }
   ],
   "source": [
    "import numpy as np\n",
    "import math as m\n",
    "import sympy as sym\n",
    "from sympy import *\n",
    "\n",
    "Rl, Vlav, Ilav= sym.symbols('R_{L}, V_{L(AV)}, I_{L(AV)}')\n",
    "\n",
    "Ilav= 5\n",
    "Rl= 100\n",
    "\n",
    "Vlav= Ilav*Rl\n",
    "\n",
    "print(\"El valor de la tensión media en la carga es V_{L(AV)}= \", Vlav, \"V\")"
   ]
  },
  {
   "cell_type": "markdown",
   "metadata": {},
   "source": [
    "Se calcula la tensión eficaz $V_{s(RMS)}$ por fase secundaria a partir de la tensión media sobre la carga.\n",
    "\n",
    "$$ \\boxed{ V_{RMS}= \\frac{1}{T} \\int_{0}^{T} v(t)dt  }$$\n",
    "\n",
    "Se tiene que la tensión de fase se encuentra dada por la siguiente expresión:\n",
    "\n",
    "$$ V(t)= \\sqrt{3} \\space V_{s(máx)} \\cos{(\\omega t)} $$\n",
    "\n",
    "Se aplica la fórmula para el caso propuesto.\n",
    "\n",
    "$$ V_{L(AV)}= \\frac{1}{\\Bigl(  \\frac{2\\pi}{6} \\Bigl)} \\int_{-\\frac{\\pi}{6}}^{\\frac{\\pi}{6}} \\sqrt{3} \\space V_{s(máx)} \\cos{(\\theta)} \\space d\\theta $$\n",
    "\n",
    "Por ser senoidal la forma de onda de la tensión secundaria se cumple lo siguiente:\n",
    "\n",
    "$$ \\boxed{ V_{s(RMS)}= \\frac{V_{s(máx)}}{ \\sqrt{2} } }$$\n",
    "\n",
    "\n",
    "$$ V_{L(AV)}= V_{s(RMS)} \\frac{ (3 \\space \\sqrt{6}) }{\\pi} = 2.34 \\space V_{s(RMS)} $$\n",
    "\n",
    "$$ \\boxed{ V_{s(RMS)}= 0.4275 \\space V_{L(AV)} }$$\n",
    "\n",
    "Se tiene como dato $V_{L(AV)}= 500V$\n",
    "\n",
    "$$ V_{s(RMS)}= 0.4275 \\space 500V= 213.75V $$\n",
    "\n",
    "$$ \\boxed{V_{s(RMS)}= 213.75V} $$\n",
    "\n",
    "Despejando $V_{s(máx)}$ se tiene lo siguiente:\n",
    "\n",
    "$$ V_{s(máx)}= V_{s(RMS)}\\sqrt{2} $$\n",
    "\n",
    "$$ V_{s(máx)}= 213.75V \\space \\sqrt{2}= 302.28V \\approx 302.3V $$\n",
    "\n",
    "$$ \\boxed{ V_{s(máx)}= 302.3V }$$"
   ]
  },
  {
   "cell_type": "markdown",
   "metadata": {},
   "source": [
    "Se calcula la corriente pico máxima en el secundario $ I_{s(máx)} $ a partir de la corriente media en la carga $I_{L(AV)}$.\n",
    "\n",
    "$$ \\boxed{ I_{L(AV)}= \\frac{1}{\\Bigl( \\frac{2\\pi}{6} \\Bigl)} \\int_{-\\frac{\\pi}{6}}^{\\frac{\\pi}{6}} I_{s \\space {máx}} \\space \\cos{(\\theta)} \\space d\\theta} $$\n",
    "\n",
    "Resolviendo la integral se tiene lo siguiente:\n",
    "\n",
    "$$ I_{L(AV)}= I_{s(máx)} \\Bigl( \\frac{3}{\\pi} \\Bigl) $$\n",
    "\n",
    "$$ I_{s(máx)}= I_{L(AV)} \\Bigl( \\frac{\\pi}{3} \\Bigl) =  5A * \\Bigl( \\frac{\\pi}{3} \\Bigl)= 5.24A$$\n",
    "\n",
    "$$ \\boxed{ I_{s(máx)}= 5.24A } $$"
   ]
  },
  {
   "cell_type": "markdown",
   "metadata": {},
   "source": [
    "Se calcula la relación entre $I_{F(AV)}$ e $\\widehat{I}_{s}$.\n",
    "\n",
    "$$ \\boxed{ I_{F(AV)}= \\frac{1}{2\\pi} \\int_{-\\frac{\\pi}{3}}^{\\frac{\\pi}{3}} \\widehat{I}_{s} \\cos{(\\omega t)} dt} $$\n",
    "\n",
    "$$ I_{F(AV)}= \\frac{1}{\\pi} \\int_{0}^{\\frac{\\pi}{3}} \\widehat{I}_{s} \\cos{(\\theta) \\space d\\theta} $$\n",
    "\n",
    "$$ I_{F(AV)}= \\frac{\\sqrt{3}}{2\\pi} \\widehat{I}_{s} $$\n",
    "\n",
    "Se obtiene el valor de $I_{F(AV)}$.\n",
    "\n",
    "$$ I_{F(AV)}= 5.24A \\space \\frac{\\sqrt{3}}{2 \\pi}= 1.44A $$\n",
    "\n",
    "$$ \\boxed{ I_{F(AV)}= 1.44A } $$"
   ]
  },
  {
   "cell_type": "markdown",
   "metadata": {},
   "source": [
    "Se calcula la relación entre $I_{o}$ e $I_{F(AV)}$.\n",
    "\n",
    "$$ \\boxed{ I_{o}= \\frac{1}{\\Bigl( \\frac{2\\pi}{3} \\Bigl)} \\int_{-\\frac{\\pi}{3}}^{\\frac{\\pi}{3}} \\widehat{I}_{s} \\cos{(\\theta) \\space d\\theta} } $$\n",
    "\n",
    "$$ \\boxed{ I_{o}= \\frac{3 \\sqrt{3} }{2\\pi} \\widehat{I}_{s} } $$\n",
    "\n",
    "$$ I_{o}= \\frac{3 \\sqrt{3} }{2\\pi} \\frac{2\\pi}{\\sqrt{3}} \\space I_{F(AV)}= 3 \\space I_{F(AV)} $$\n",
    "\n",
    "$$ I_{o}= 3 \\space I_{F(AV)} $$\n",
    "\n",
    "$$ \\boxed{ I_{F(AV)}= \\frac{1}{3}  \\space I_{o} } $$"
   ]
  },
  {
   "cell_type": "markdown",
   "metadata": {},
   "source": [
    "Se calcula la corriente $I_{F(RMS)}$.\n",
    "\n",
    "$$ I_{F(RMS)}= \\sqrt{ \\frac{1}{2\\pi} \\int_{}^{} \\widehat{I}^2_{s} \\cos^2{(\\theta)} \\space d\\theta } $$\n",
    "\n",
    "Resolviendo se tiene lo siguiente:\n",
    "\n",
    "$$ \\boxed{ I_{F(RMS)}= \\frac{I_{o}}{\\sqrt{3}} } $$"
   ]
  },
  {
   "cell_type": "markdown",
   "metadata": {},
   "source": [
    "La tensión pico inversa $V_{RRM}$ se relaciona con la tensión en la carga $V_{o}$ por medio de la siguiente expresión:\n",
    "\n",
    "$$ V_{RRM}= \\sqrt{3} \\space \\widehat{V}_{f} $$\n",
    "\n",
    "Debido a que se tiene una tensión máxima de fase $\\widehat{V}_{f}$.\n",
    "\n",
    "$$ \\widehat{V}_{f}= \\sqrt{2} \\space V_{f} $$\n",
    "\n",
    "Se reemplaza $\\widehat{V}_{f}$ en la fórmula anterior y se obtiene lo siguiente:\n",
    "\n",
    "$$ V_{RRM}= \\sqrt{3} \\space \\sqrt{2} \\space  V_{f} $$\n",
    "\n",
    "$$ V_{f}= V_{s}= 0.855 \\space V_{o} $$\n",
    "\n",
    "Se reemplaza en la expresión de la tensión pico inversa $V_{RRM}$.\n",
    "\n",
    "$$ V_{RRM}= \\sqrt{6} \\space 0.855 \\space V_{o} $$\n",
    "\n",
    "$$ \\boxed{ V_{RRM}= 2.09 \\space V_{o} } $$"
   ]
  },
  {
   "cell_type": "markdown",
   "metadata": {},
   "source": [
    "#### CASO DE CARGA RESISTIVA - INDUCTIVA."
   ]
  },
  {
   "cell_type": "markdown",
   "metadata": {},
   "source": [
    "Al agregar la carga inductiva se filtra la corriente alterna de la carga. La corriente media en el diodo $I_{F(AV)}$ en el diodo se calcula por medio de la siguiente integral.\n",
    "\n",
    "$$ \\boxed{ I_{F(AV)}= \\frac{1}{2\\pi} \\int_{-\\frac{\\pi}{3}}^{\\frac{\\pi}{3}} \\widehat{I}_{s} \\space d\\theta } $$\n",
    "\n",
    "$$ I_{F(AV)}= \\frac{1}{\\pi} \\int_{0}^{\\frac{\\pi}{3}} \\widehat{I}_{s} \\space d\\theta $$\n",
    "\n",
    "$$ I_{F(AV)}= \\frac{\\widehat{I}_{s}}{\\pi} \\Bigl( \\frac{\\pi}{3} \\space - \\space 0 \\Bigl)= \\frac{\\widehat{I}_{s}}{3}$$\n",
    "\n",
    "$$ I_{F(AV)}= \\frac{2\\pi}{9 \\sqrt{3}} \\space I_{o}$$\n",
    "\n",
    "$$ I_{o} \\space \\frac{2\\pi}{3 \\sqrt{3} } =  \\widehat{I}_{s} $$ \n",
    "\n",
    "Se calcula la corriente $I_{F(RMS)}$.\n",
    "\n",
    "$$ \\boxed{ I_{F(RMS)}= \\sqrt{ \\frac{1}{2\\pi} \\int_{-\\frac{\\pi}{3}}^{\\frac{\\pi}{3}} \\widehat{I}^2_{s} \\space d\\theta } } $$\n",
    "\n",
    "$$ I_{F(RMS)}= \\sqrt{ \\frac{1}{\\pi} \\int_{0}^{\\frac{\\pi}{3}} \\widehat{I}^2_{s} \\space d\\theta }= \\sqrt{ \\frac{1}{3} \\space \\widehat{I}^2_{s} }= \\frac{1}{\\sqrt{3}} \\space \\widehat{I}_{s} $$\n",
    "\n",
    "$$ I_{F(RMS)}= \\frac{1}{\\sqrt{3}} \\space \\widehat{I}_{s}= I_{o} \\space \\frac{2\\pi}{3 \\sqrt{3} } \\frac{1}{\\sqrt{3}}= \\frac{2\\pi}{9} \\space I_{o} $$ \n",
    "\n",
    "Relación entre $\\widehat{I}_{s}$ e $I_{o}$.\n",
    "\n",
    "$$ \\boxed{ I_{o}= \\frac{1}{\\Bigl( \\frac{2\\pi}{3} \\Bigl)} \\int_{-\\frac{\\pi}{3}}^{\\frac{\\pi}{3}} \\widehat{I}_{s} \\space d\\theta } $$\n",
    "\n",
    "$$ I_{o}= \\frac{3}{\\pi} \\int_{0}^{\\frac{\\pi}{3}} \\widehat{I}_{s} \\space d\\theta= \\widehat{I}_{s} $$\n",
    "\n",
    "$$ \\boxed{ I_{o}= 5.24A } $$"
   ]
  },
  {
   "cell_type": "markdown",
   "metadata": {},
   "source": [
    "La relación de transformación para carga resistiva - inductiva es la siguiente.\n",
    "\n",
    "$$ \\boxed{ n= \\frac{V_{s}}{V_{p}} }$$\n",
    "\n",
    "$$ n= \\frac{213.75V}{380V}= 0.56$$"
   ]
  },
  {
   "cell_type": "markdown",
   "metadata": {},
   "source": [
    "######################################################################33"
   ]
  },
  {
   "cell_type": "markdown",
   "metadata": {},
   "source": []
  },
  {
   "cell_type": "markdown",
   "metadata": {},
   "source": [
    "Se calcula el factor de ondulación.\n",
    "\n",
    "$$ K_{ud \\space par}= \\frac{\\pi}{2q \\sin \\Bigl( \\frac{\\pi}{q} \\Bigl)} \\Bigl( 1- \\cos \\Bigl( \\frac{\\pi}{q} \\Bigl) \\Bigl)$$"
   ]
  },
  {
   "cell_type": "code",
   "execution_count": 2,
   "metadata": {},
   "outputs": [
    {
     "name": "stdout",
     "output_type": "stream",
     "text": [
      "El valor del Factor de ondulación es: \n",
      " Kud= 0.07 \n",
      " Kud(%)=  7.012 %\n"
     ]
    }
   ],
   "source": [
    "import numpy as np\n",
    "import math as m\n",
    "import sympy as sym\n",
    "from sympy import *\n",
    "\n",
    "Kud, q, pi= sym.symbols('K_{ud}, q, pi')\n",
    "\n",
    "Kud= (pi/(2*q*sin(pi/q)))*(1-cos(pi/q))\n",
    "\n",
    "K_ud= Kud.subs(q, 6).subs(pi, 3.141)\n",
    "\n",
    "print(\"El valor del Factor de ondulación es: \\n Kud=\", K_ud.evalf(1), \"\\n Kud(%)= \", (K_ud*100).evalf(4), \"%\")"
   ]
  },
  {
   "cell_type": "markdown",
   "metadata": {},
   "source": [
    "### Consigna 2"
   ]
  },
  {
   "cell_type": "markdown",
   "metadata": {},
   "source": [
    "Se calcula de la tensión pico máxima en la carga $(V_{máx})$. Se parte de la siguiente fórmula:\n",
    "\n",
    "$$ V_{AV}= \\Bigl( \\frac{q}{\\pi} \\Bigl) V_{máx}\\sin \\Bigl( \\frac{\\pi}{q} \\Bigl) $$\n",
    "\n",
    "Se despeja para obtener $V_{máx}$.\n",
    "\n",
    "$$ V_{máx}= \\frac{V_{AV} \\pi}{q\\sin \\Bigl( \\frac{\\pi}{q} \\Bigl) } $$\n",
    "\n",
    "Se realiza el cálculo mediante python."
   ]
  },
  {
   "cell_type": "code",
   "execution_count": 6,
   "metadata": {},
   "outputs": [
    {
     "name": "stdout",
     "output_type": "stream",
     "text": [
      "El valor de la tensión pico máxima es Vmax=  523.6 V\n"
     ]
    }
   ],
   "source": [
    "#Cargo las librería numérica (numpy) y simbólica (sympy).\n",
    "import numpy as np\n",
    "import math as m\n",
    "import sympy as sym\n",
    "from sympy import abc\n",
    "\n",
    "#Cargo los símbolos para la ecuación de tensión promedio (Vaverage).\n",
    "Vav, q, Vmax= sym.symbols('V_{AV}, q, V_{máx}')\n",
    "\n",
    "Vmax= (Vav*pi)/(q*sin(pi/q))\n",
    "\n",
    "V_max= Vmax.subs(Vav, 500).subs(q, 6).subs(pi, 3.141)\n",
    "\n",
    "#.evalf(4) indica la cantidad de cifras a imprimir del valor V_max.\n",
    "print(\"El valor de la tensión pico máxima es Vmax= \", V_max.evalf(4), \"V\")"
   ]
  },
  {
   "cell_type": "markdown",
   "metadata": {},
   "source": [
    "Luego se calcula la tensión eficaz sobre la carga $(V_{RMS})$.\n",
    "\n",
    "$$ V_{RMS}= V_{máx} \\sqrt{\\Bigl( \\frac{1}{2} \\Bigl)+\\Bigl( \\frac{q}{4\\pi} \\Bigl) \\sin \\Bigl( \\frac{2 \\pi}{q} \\Bigl)} $$"
   ]
  },
  {
   "cell_type": "code",
   "execution_count": 14,
   "metadata": {},
   "outputs": [
    {
     "name": "stdout",
     "output_type": "stream",
     "text": [
      "El valor de la tensión RMS (root mean square) es Vrms=  500.4\n"
     ]
    }
   ],
   "source": [
    "#Cargo el símbolo que falta para la ecuación de la tensión eficaz (Vrms).\n",
    "Vrms= sym.symbols('V_{RMS}')\n",
    "\n",
    "#La función sqrt() no funciona correctamente con cálculo simbólico, por lo que se resuelve con \"m.sqrt()\" y \"m.sin()\".\n",
    "Vrms= V_max*m.sqrt((1/2)+((6/(4*3.141))*m.sin((2*3.141)/6)))\n",
    "#Ver que pasa con el valor de q= 6, ya que no puede ser reemplazado en Vrms.subs(q, 6).\n",
    "#V_rms= Vrms.subs(Vav, 500).subs(q, 6).subs(pi, 3.141)\n",
    "V_rms= Vrms.subs(Vav, 500)\n",
    "print(\"El valor de la tensión RMS (root mean square) es Vrms= \", V_rms.evalf(4))"
   ]
  },
  {
   "cell_type": "markdown",
   "metadata": {},
   "source": [
    "Se calcula el factor de rizado con la siguiente fórmula:\n",
    "\n",
    "$$ RF= \\Bigl( \\frac{\\pi}{2q} \\Bigl) \\frac{ \\Bigl( 1-\\cos \\Bigl( \\frac{\\pi}{q} \\Bigl) \\Bigl) }{\\sin \\Bigl( \\frac{\\pi}{q} \\Bigl)} $$"
   ]
  },
  {
   "cell_type": "code",
   "execution_count": 5,
   "metadata": {},
   "outputs": [
    {
     "name": "stdout",
     "output_type": "stream",
     "text": [
      "El valor del factor de rizado es: \n",
      " RF=  0.067  \n",
      " RF(%)= 6.7 %.\n"
     ]
    }
   ],
   "source": [
    "#Se calcula el factor de rizado.\n",
    "\n",
    "RF, q, pi= sym.symbols('RF, q, pi')\n",
    "\n",
    "RF= (pi/(2*q))*((1-(cos(pi/q)))/((pi/q)))\n",
    "\n",
    "RF= RF.subs(q, 6).subs(pi, 3.141)\n",
    "\n",
    "print(\"El valor del factor de rizado es: \\n RF= \", RF.evalf(2), \" \\n RF(%)=\", (RF*100).evalf(2), \"%.\")"
   ]
  }
 ],
 "metadata": {
  "kernelspec": {
   "display_name": "Python 3",
   "language": "python",
   "name": "python3"
  },
  "language_info": {
   "codemirror_mode": {
    "name": "ipython",
    "version": 3
   },
   "file_extension": ".py",
   "mimetype": "text/x-python",
   "name": "python",
   "nbconvert_exporter": "python",
   "pygments_lexer": "ipython3",
   "version": "3.10.12"
  }
 },
 "nbformat": 4,
 "nbformat_minor": 2
}
